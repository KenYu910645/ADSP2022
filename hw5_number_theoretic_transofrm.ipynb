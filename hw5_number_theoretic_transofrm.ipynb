{
 "cells": [
  {
   "cell_type": "code",
   "execution_count": 21,
   "metadata": {},
   "outputs": [
    {
     "name": "stdout",
     "output_type": "stream",
     "text": [
      "N_inv = 4\n",
      "Found alpha = 2\n",
      "alpha_inv = 3\n",
      "NNT forward matrix A: \n",
      "[[1. 1. 1. 1.]\n",
      " [1. 2. 4. 3.]\n",
      " [1. 4. 1. 4.]\n",
      " [1. 3. 4. 2.]]\n",
      "NNT inverse matrix B: \n",
      "[[4. 4. 4. 4.]\n",
      " [4. 2. 1. 3.]\n",
      " [4. 1. 4. 1.]\n",
      " [4. 3. 1. 2.]]\n",
      "(B*A)modM: \n",
      "[[1. 0. 0. 0.]\n",
      " [0. 1. 0. 0.]\n",
      " [0. 0. 1. 0.]\n",
      " [0. 0. 0. 1.]]\n"
     ]
    }
   ],
   "source": [
    "import numpy as np\n",
    "\n",
    "def get_inv(x, M):\n",
    "    x_inv = 1\n",
    "    while True:\n",
    "        if (x*x_inv)%M == 1:\n",
    "            break\n",
    "        x_inv += 1\n",
    "    return x_inv\n",
    "# \n",
    "M = 5 # Must be prime number \n",
    "N = 4 # N is a factor of M-1\n",
    "# Find N_inv\n",
    "N_inv = get_inv(N, M)\n",
    "print(f\"N_inv = {N_inv}\")\n",
    "\n",
    "# Find smallest possible alpha\n",
    "alpha = 1\n",
    "while True:\n",
    "    is_OK = True\n",
    "    for k in range(1, N):\n",
    "        if (alpha**k)%M == 1: # Not Ok \n",
    "            is_OK = False\n",
    "            break\n",
    "    if (alpha**N)%M != 1: # Not ok \n",
    "        is_OK = False\n",
    "\n",
    "    if is_OK:\n",
    "        print(f\"Found alpha = {alpha}\")\n",
    "        break\n",
    "    else:\n",
    "        alpha += 1\n",
    "# Find alpha_inv \n",
    "# Find N_inv\n",
    "alpha_inv = get_inv(alpha, M)\n",
    "print(f\"alpha_inv = {alpha_inv}\")\n",
    "\n",
    "# Find A, forward transform\n",
    "A = np.zeros((N, N))\n",
    "for n in range(N):\n",
    "    for k in range(N):\n",
    "        A[k, n] = ( alpha**( (n*k)%N ) )%M\n",
    "print(\"NNT forward matrix A: \")\n",
    "print(A)\n",
    "\n",
    "# Find B, inverse transform\n",
    "B = np.zeros((N, N))\n",
    "for n in range(N):\n",
    "    for k in range(N):\n",
    "        B[k, n] = (N_inv * (alpha_inv**( (n*k)%N ))%M) %M\n",
    "print(\"NNT inverse matrix B: \")\n",
    "print(B)\n",
    "\n",
    "# Verify (B*A)modM = I\n",
    "print(\"(B*A)modM: \")\n",
    "print( np.matmul(B,A) % M )\n",
    "\n",
    "\n"
   ]
  }
 ],
 "metadata": {
  "kernelspec": {
   "display_name": "Python 3.6.13 ('KenYuADSP')",
   "language": "python",
   "name": "python3"
  },
  "language_info": {
   "codemirror_mode": {
    "name": "ipython",
    "version": 3
   },
   "file_extension": ".py",
   "mimetype": "text/x-python",
   "name": "python",
   "nbconvert_exporter": "python",
   "pygments_lexer": "ipython3",
   "version": "3.6.13"
  },
  "orig_nbformat": 4,
  "vscode": {
   "interpreter": {
    "hash": "1783879a444fa6151ab7842ed8ab7415bd7f8f45ce370abd394c505a725d374d"
   }
  }
 },
 "nbformat": 4,
 "nbformat_minor": 2
}
